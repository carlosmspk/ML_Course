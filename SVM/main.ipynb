{
 "cells": [
  {
   "cell_type": "code",
   "execution_count": 4,
   "metadata": {},
   "outputs": [
    {
     "ename": "ModuleNotFoundError",
     "evalue": "No module named 'matplotlib_inline'",
     "output_type": "error",
     "traceback": [
      "\u001b[0;31m---------------------------------------------------------------------------\u001b[0m",
      "\u001b[0;31mModuleNotFoundError\u001b[0m                       Traceback (most recent call last)",
      "Input \u001b[0;32mIn [4]\u001b[0m, in \u001b[0;36m<module>\u001b[0;34m\u001b[0m\n\u001b[1;32m      2\u001b[0m \u001b[38;5;28;01mimport\u001b[39;00m \u001b[38;5;21;01mpandas\u001b[39;00m \u001b[38;5;28;01mas\u001b[39;00m \u001b[38;5;21;01mpd\u001b[39;00m\n\u001b[1;32m      3\u001b[0m \u001b[38;5;28;01mimport\u001b[39;00m \u001b[38;5;21;01myfinance\u001b[39;00m \u001b[38;5;28;01mas\u001b[39;00m \u001b[38;5;21;01myf\u001b[39;00m\n\u001b[0;32m----> 4\u001b[0m \u001b[38;5;28;01mimport\u001b[39;00m \u001b[38;5;21;01mseaborn\u001b[39;00m \u001b[38;5;28;01mas\u001b[39;00m \u001b[38;5;21;01msns\u001b[39;00m\n\u001b[1;32m      5\u001b[0m \u001b[38;5;28;01mimport\u001b[39;00m \u001b[38;5;21;01mmatplotlib\u001b[39;00m\u001b[38;5;21;01m.\u001b[39;00m\u001b[38;5;21;01mpyplot\u001b[39;00m \u001b[38;5;28;01mas\u001b[39;00m \u001b[38;5;21;01mplt\u001b[39;00m\n\u001b[1;32m      6\u001b[0m \u001b[38;5;28;01mfrom\u001b[39;00m \u001b[38;5;21;01msklearn\u001b[39;00m\u001b[38;5;21;01m.\u001b[39;00m\u001b[38;5;21;01mmodel_selection\u001b[39;00m \u001b[38;5;28;01mimport\u001b[39;00m train_test_split\n",
      "File \u001b[0;32m~/Desktop/Code/PersonalProjects/Python/FreeCodeCampML/.venv/lib/python3.9/site-packages/seaborn/__init__.py:2\u001b[0m, in \u001b[0;36m<module>\u001b[0;34m\u001b[0m\n\u001b[1;32m      1\u001b[0m \u001b[38;5;66;03m# Import seaborn objects\u001b[39;00m\n\u001b[0;32m----> 2\u001b[0m \u001b[38;5;28;01mfrom\u001b[39;00m \u001b[38;5;21;01m.\u001b[39;00m\u001b[38;5;21;01mrcmod\u001b[39;00m \u001b[38;5;28;01mimport\u001b[39;00m \u001b[38;5;241m*\u001b[39m  \u001b[38;5;66;03m# noqa: F401,F403\u001b[39;00m\n\u001b[1;32m      3\u001b[0m \u001b[38;5;28;01mfrom\u001b[39;00m \u001b[38;5;21;01m.\u001b[39;00m\u001b[38;5;21;01mutils\u001b[39;00m \u001b[38;5;28;01mimport\u001b[39;00m \u001b[38;5;241m*\u001b[39m  \u001b[38;5;66;03m# noqa: F401,F403\u001b[39;00m\n\u001b[1;32m      4\u001b[0m \u001b[38;5;28;01mfrom\u001b[39;00m \u001b[38;5;21;01m.\u001b[39;00m\u001b[38;5;21;01mpalettes\u001b[39;00m \u001b[38;5;28;01mimport\u001b[39;00m \u001b[38;5;241m*\u001b[39m  \u001b[38;5;66;03m# noqa: F401,F403\u001b[39;00m\n",
      "File \u001b[0;32m~/Desktop/Code/PersonalProjects/Python/FreeCodeCampML/.venv/lib/python3.9/site-packages/seaborn/rcmod.py:7\u001b[0m, in \u001b[0;36m<module>\u001b[0;34m\u001b[0m\n\u001b[1;32m      5\u001b[0m \u001b[38;5;28;01mimport\u001b[39;00m \u001b[38;5;21;01mmatplotlib\u001b[39;00m \u001b[38;5;28;01mas\u001b[39;00m \u001b[38;5;21;01mmpl\u001b[39;00m\n\u001b[1;32m      6\u001b[0m \u001b[38;5;28;01mfrom\u001b[39;00m \u001b[38;5;21;01mcycler\u001b[39;00m \u001b[38;5;28;01mimport\u001b[39;00m cycler\n\u001b[0;32m----> 7\u001b[0m \u001b[38;5;28;01mfrom\u001b[39;00m \u001b[38;5;21;01m.\u001b[39;00m \u001b[38;5;28;01mimport\u001b[39;00m palettes\n\u001b[1;32m     10\u001b[0m __all__ \u001b[38;5;241m=\u001b[39m [\u001b[38;5;124m\"\u001b[39m\u001b[38;5;124mset_theme\u001b[39m\u001b[38;5;124m\"\u001b[39m, \u001b[38;5;124m\"\u001b[39m\u001b[38;5;124mset\u001b[39m\u001b[38;5;124m\"\u001b[39m, \u001b[38;5;124m\"\u001b[39m\u001b[38;5;124mreset_defaults\u001b[39m\u001b[38;5;124m\"\u001b[39m, \u001b[38;5;124m\"\u001b[39m\u001b[38;5;124mreset_orig\u001b[39m\u001b[38;5;124m\"\u001b[39m,\n\u001b[1;32m     11\u001b[0m            \u001b[38;5;124m\"\u001b[39m\u001b[38;5;124maxes_style\u001b[39m\u001b[38;5;124m\"\u001b[39m, \u001b[38;5;124m\"\u001b[39m\u001b[38;5;124mset_style\u001b[39m\u001b[38;5;124m\"\u001b[39m, \u001b[38;5;124m\"\u001b[39m\u001b[38;5;124mplotting_context\u001b[39m\u001b[38;5;124m\"\u001b[39m, \u001b[38;5;124m\"\u001b[39m\u001b[38;5;124mset_context\u001b[39m\u001b[38;5;124m\"\u001b[39m,\n\u001b[1;32m     12\u001b[0m            \u001b[38;5;124m\"\u001b[39m\u001b[38;5;124mset_palette\u001b[39m\u001b[38;5;124m\"\u001b[39m]\n\u001b[1;32m     15\u001b[0m _style_keys \u001b[38;5;241m=\u001b[39m [\n\u001b[1;32m     16\u001b[0m \n\u001b[1;32m     17\u001b[0m     \u001b[38;5;124m\"\u001b[39m\u001b[38;5;124maxes.facecolor\u001b[39m\u001b[38;5;124m\"\u001b[39m,\n\u001b[0;32m   (...)\u001b[0m\n\u001b[1;32m     52\u001b[0m \n\u001b[1;32m     53\u001b[0m ]\n",
      "File \u001b[0;32m~/Desktop/Code/PersonalProjects/Python/FreeCodeCampML/.venv/lib/python3.9/site-packages/seaborn/palettes.py:9\u001b[0m, in \u001b[0;36m<module>\u001b[0;34m\u001b[0m\n\u001b[1;32m      5\u001b[0m \u001b[38;5;28;01mimport\u001b[39;00m \u001b[38;5;21;01mmatplotlib\u001b[39;00m \u001b[38;5;28;01mas\u001b[39;00m \u001b[38;5;21;01mmpl\u001b[39;00m\n\u001b[1;32m      7\u001b[0m \u001b[38;5;28;01mfrom\u001b[39;00m \u001b[38;5;21;01m.\u001b[39;00m\u001b[38;5;21;01mexternal\u001b[39;00m \u001b[38;5;28;01mimport\u001b[39;00m husl\n\u001b[0;32m----> 9\u001b[0m \u001b[38;5;28;01mfrom\u001b[39;00m \u001b[38;5;21;01m.\u001b[39;00m\u001b[38;5;21;01mutils\u001b[39;00m \u001b[38;5;28;01mimport\u001b[39;00m desaturate, get_color_cycle\n\u001b[1;32m     10\u001b[0m \u001b[38;5;28;01mfrom\u001b[39;00m \u001b[38;5;21;01m.\u001b[39;00m\u001b[38;5;21;01mcolors\u001b[39;00m \u001b[38;5;28;01mimport\u001b[39;00m xkcd_rgb, crayons\n\u001b[1;32m     13\u001b[0m __all__ \u001b[38;5;241m=\u001b[39m [\u001b[38;5;124m\"\u001b[39m\u001b[38;5;124mcolor_palette\u001b[39m\u001b[38;5;124m\"\u001b[39m, \u001b[38;5;124m\"\u001b[39m\u001b[38;5;124mhls_palette\u001b[39m\u001b[38;5;124m\"\u001b[39m, \u001b[38;5;124m\"\u001b[39m\u001b[38;5;124mhusl_palette\u001b[39m\u001b[38;5;124m\"\u001b[39m, \u001b[38;5;124m\"\u001b[39m\u001b[38;5;124mmpl_palette\u001b[39m\u001b[38;5;124m\"\u001b[39m,\n\u001b[1;32m     14\u001b[0m            \u001b[38;5;124m\"\u001b[39m\u001b[38;5;124mdark_palette\u001b[39m\u001b[38;5;124m\"\u001b[39m, \u001b[38;5;124m\"\u001b[39m\u001b[38;5;124mlight_palette\u001b[39m\u001b[38;5;124m\"\u001b[39m, \u001b[38;5;124m\"\u001b[39m\u001b[38;5;124mdiverging_palette\u001b[39m\u001b[38;5;124m\"\u001b[39m,\n\u001b[1;32m     15\u001b[0m            \u001b[38;5;124m\"\u001b[39m\u001b[38;5;124mblend_palette\u001b[39m\u001b[38;5;124m\"\u001b[39m, \u001b[38;5;124m\"\u001b[39m\u001b[38;5;124mxkcd_palette\u001b[39m\u001b[38;5;124m\"\u001b[39m, \u001b[38;5;124m\"\u001b[39m\u001b[38;5;124mcrayon_palette\u001b[39m\u001b[38;5;124m\"\u001b[39m,\n\u001b[1;32m     16\u001b[0m            \u001b[38;5;124m\"\u001b[39m\u001b[38;5;124mcubehelix_palette\u001b[39m\u001b[38;5;124m\"\u001b[39m, \u001b[38;5;124m\"\u001b[39m\u001b[38;5;124mset_color_codes\u001b[39m\u001b[38;5;124m\"\u001b[39m]\n",
      "File \u001b[0;32m~/Desktop/Code/PersonalProjects/Python/FreeCodeCampML/.venv/lib/python3.9/site-packages/seaborn/utils.py:14\u001b[0m, in \u001b[0;36m<module>\u001b[0;34m\u001b[0m\n\u001b[1;32m     12\u001b[0m \u001b[38;5;28;01mimport\u001b[39;00m \u001b[38;5;21;01mmatplotlib\u001b[39;00m \u001b[38;5;28;01mas\u001b[39;00m \u001b[38;5;21;01mmpl\u001b[39;00m\n\u001b[1;32m     13\u001b[0m \u001b[38;5;28;01mimport\u001b[39;00m \u001b[38;5;21;01mmatplotlib\u001b[39;00m\u001b[38;5;21;01m.\u001b[39;00m\u001b[38;5;21;01mcolors\u001b[39;00m \u001b[38;5;28;01mas\u001b[39;00m \u001b[38;5;21;01mmplcol\u001b[39;00m\n\u001b[0;32m---> 14\u001b[0m \u001b[38;5;28;01mimport\u001b[39;00m \u001b[38;5;21;01mmatplotlib\u001b[39;00m\u001b[38;5;21;01m.\u001b[39;00m\u001b[38;5;21;01mpyplot\u001b[39;00m \u001b[38;5;28;01mas\u001b[39;00m \u001b[38;5;21;01mplt\u001b[39;00m\n\u001b[1;32m     15\u001b[0m \u001b[38;5;28;01mfrom\u001b[39;00m \u001b[38;5;21;01mmatplotlib\u001b[39;00m\u001b[38;5;21;01m.\u001b[39;00m\u001b[38;5;21;01mcbook\u001b[39;00m \u001b[38;5;28;01mimport\u001b[39;00m normalize_kwargs\n\u001b[1;32m     18\u001b[0m __all__ \u001b[38;5;241m=\u001b[39m [\u001b[38;5;124m\"\u001b[39m\u001b[38;5;124mdesaturate\u001b[39m\u001b[38;5;124m\"\u001b[39m, \u001b[38;5;124m\"\u001b[39m\u001b[38;5;124msaturate\u001b[39m\u001b[38;5;124m\"\u001b[39m, \u001b[38;5;124m\"\u001b[39m\u001b[38;5;124mset_hls_values\u001b[39m\u001b[38;5;124m\"\u001b[39m, \u001b[38;5;124m\"\u001b[39m\u001b[38;5;124mmove_legend\u001b[39m\u001b[38;5;124m\"\u001b[39m,\n\u001b[1;32m     19\u001b[0m            \u001b[38;5;124m\"\u001b[39m\u001b[38;5;124mdespine\u001b[39m\u001b[38;5;124m\"\u001b[39m, \u001b[38;5;124m\"\u001b[39m\u001b[38;5;124mget_dataset_names\u001b[39m\u001b[38;5;124m\"\u001b[39m, \u001b[38;5;124m\"\u001b[39m\u001b[38;5;124mget_data_home\u001b[39m\u001b[38;5;124m\"\u001b[39m, \u001b[38;5;124m\"\u001b[39m\u001b[38;5;124mload_dataset\u001b[39m\u001b[38;5;124m\"\u001b[39m]\n",
      "File \u001b[0;32m~/Desktop/Code/PersonalProjects/Python/FreeCodeCampML/.venv/lib/python3.9/site-packages/matplotlib/pyplot.py:2230\u001b[0m, in \u001b[0;36m<module>\u001b[0;34m\u001b[0m\n\u001b[1;32m   2228\u001b[0m     \u001b[38;5;28mdict\u001b[39m\u001b[38;5;241m.\u001b[39m\u001b[38;5;21m__setitem__\u001b[39m(rcParams, \u001b[38;5;124m\"\u001b[39m\u001b[38;5;124mbackend\u001b[39m\u001b[38;5;124m\"\u001b[39m, rcsetup\u001b[38;5;241m.\u001b[39m_auto_backend_sentinel)\n\u001b[1;32m   2229\u001b[0m \u001b[38;5;66;03m# Set up the backend.\u001b[39;00m\n\u001b[0;32m-> 2230\u001b[0m \u001b[43mswitch_backend\u001b[49m\u001b[43m(\u001b[49m\u001b[43mrcParams\u001b[49m\u001b[43m[\u001b[49m\u001b[38;5;124;43m\"\u001b[39;49m\u001b[38;5;124;43mbackend\u001b[39;49m\u001b[38;5;124;43m\"\u001b[39;49m\u001b[43m]\u001b[49m\u001b[43m)\u001b[49m\n\u001b[1;32m   2232\u001b[0m \u001b[38;5;66;03m# Just to be safe.  Interactive mode can be turned on without\u001b[39;00m\n\u001b[1;32m   2233\u001b[0m \u001b[38;5;66;03m# calling `plt.ion()` so register it again here.\u001b[39;00m\n\u001b[1;32m   2234\u001b[0m \u001b[38;5;66;03m# This is safe because multiple calls to `install_repl_displayhook`\u001b[39;00m\n\u001b[1;32m   2235\u001b[0m \u001b[38;5;66;03m# are no-ops and the registered function respect `mpl.is_interactive()`\u001b[39;00m\n\u001b[1;32m   2236\u001b[0m \u001b[38;5;66;03m# to determine if they should trigger a draw.\u001b[39;00m\n\u001b[1;32m   2237\u001b[0m install_repl_displayhook()\n",
      "File \u001b[0;32m~/Desktop/Code/PersonalProjects/Python/FreeCodeCampML/.venv/lib/python3.9/site-packages/matplotlib/pyplot.py:267\u001b[0m, in \u001b[0;36mswitch_backend\u001b[0;34m(newbackend)\u001b[0m\n\u001b[1;32m    260\u001b[0m \u001b[38;5;66;03m# Backends are implemented as modules, but \"inherit\" default method\u001b[39;00m\n\u001b[1;32m    261\u001b[0m \u001b[38;5;66;03m# implementations from backend_bases._Backend.  This is achieved by\u001b[39;00m\n\u001b[1;32m    262\u001b[0m \u001b[38;5;66;03m# creating a \"class\" that inherits from backend_bases._Backend and whose\u001b[39;00m\n\u001b[1;32m    263\u001b[0m \u001b[38;5;66;03m# body is filled with the module's globals.\u001b[39;00m\n\u001b[1;32m    265\u001b[0m backend_name \u001b[38;5;241m=\u001b[39m cbook\u001b[38;5;241m.\u001b[39m_backend_module_name(newbackend)\n\u001b[0;32m--> 267\u001b[0m \u001b[38;5;28;01mclass\u001b[39;00m \u001b[38;5;21;01mbackend_mod\u001b[39;00m(matplotlib\u001b[38;5;241m.\u001b[39mbackend_bases\u001b[38;5;241m.\u001b[39m_Backend):\n\u001b[1;32m    268\u001b[0m     \u001b[38;5;28mlocals\u001b[39m()\u001b[38;5;241m.\u001b[39mupdate(\u001b[38;5;28mvars\u001b[39m(importlib\u001b[38;5;241m.\u001b[39mimport_module(backend_name)))\n\u001b[1;32m    270\u001b[0m required_framework \u001b[38;5;241m=\u001b[39m _get_required_interactive_framework(backend_mod)\n",
      "File \u001b[0;32m~/Desktop/Code/PersonalProjects/Python/FreeCodeCampML/.venv/lib/python3.9/site-packages/matplotlib/pyplot.py:268\u001b[0m, in \u001b[0;36mswitch_backend.<locals>.backend_mod\u001b[0;34m()\u001b[0m\n\u001b[1;32m    267\u001b[0m \u001b[38;5;28;01mclass\u001b[39;00m \u001b[38;5;21;01mbackend_mod\u001b[39;00m(matplotlib\u001b[38;5;241m.\u001b[39mbackend_bases\u001b[38;5;241m.\u001b[39m_Backend):\n\u001b[0;32m--> 268\u001b[0m     \u001b[38;5;28mlocals\u001b[39m()\u001b[38;5;241m.\u001b[39mupdate(\u001b[38;5;28mvars\u001b[39m(\u001b[43mimportlib\u001b[49m\u001b[38;5;241;43m.\u001b[39;49m\u001b[43mimport_module\u001b[49m\u001b[43m(\u001b[49m\u001b[43mbackend_name\u001b[49m\u001b[43m)\u001b[49m))\n",
      "File \u001b[0;32m/opt/homebrew/Cellar/python@3.9/3.9.10/Frameworks/Python.framework/Versions/3.9/lib/python3.9/importlib/__init__.py:127\u001b[0m, in \u001b[0;36mimport_module\u001b[0;34m(name, package)\u001b[0m\n\u001b[1;32m    125\u001b[0m             \u001b[38;5;28;01mbreak\u001b[39;00m\n\u001b[1;32m    126\u001b[0m         level \u001b[38;5;241m+\u001b[39m\u001b[38;5;241m=\u001b[39m \u001b[38;5;241m1\u001b[39m\n\u001b[0;32m--> 127\u001b[0m \u001b[38;5;28;01mreturn\u001b[39;00m \u001b[43m_bootstrap\u001b[49m\u001b[38;5;241;43m.\u001b[39;49m\u001b[43m_gcd_import\u001b[49m\u001b[43m(\u001b[49m\u001b[43mname\u001b[49m\u001b[43m[\u001b[49m\u001b[43mlevel\u001b[49m\u001b[43m:\u001b[49m\u001b[43m]\u001b[49m\u001b[43m,\u001b[49m\u001b[43m \u001b[49m\u001b[43mpackage\u001b[49m\u001b[43m,\u001b[49m\u001b[43m \u001b[49m\u001b[43mlevel\u001b[49m\u001b[43m)\u001b[49m\n",
      "\u001b[0;31mModuleNotFoundError\u001b[0m: No module named 'matplotlib_inline'"
     ]
    }
   ],
   "source": [
    "import numpy as np\n",
    "import pandas as pd\n",
    "import yfinance as yf\n",
    "import seaborn as sns\n",
    "import matplotlib.pyplot as plt\n",
    "from sklearn.model_selection import train_test_split\n",
    "from sklearn.metrics import mean_squared_error, r2_score"
   ]
  },
  {
   "cell_type": "code",
   "execution_count": null,
   "metadata": {},
   "outputs": [
    {
     "name": "stdout",
     "output_type": "stream",
     "text": [
      "[*********************100%***********************]  1 of 1 completed\n",
      "Dataframe info:\n",
      "\n",
      "<class 'pandas.core.frame.DataFrame'>\n",
      "DatetimeIndex: 3282 entries, 2008-01-02 to 2021-01-15\n",
      "Data columns (total 5 columns):\n",
      " #   Column  Non-Null Count  Dtype  \n",
      "---  ------  --------------  -----  \n",
      " 0   Open    3282 non-null   float64\n",
      " 1   High    3282 non-null   float64\n",
      " 2   Low     3282 non-null   float64\n",
      " 3   Close   3282 non-null   float64\n",
      " 4   Volume  3282 non-null   int64  \n",
      "dtypes: float64(4), int64(1)\n",
      "memory usage: 153.8 KB\n",
      "None\n",
      "\n",
      "Dataframe description\n",
      "              Open         High          Low        Close         Volume\n",
      "count  3282.000000  3282.000000  3282.000000  3282.000000    3282.000000\n",
      "mean      3.713705     3.787288     3.635038     3.707074  131397.603595\n",
      "std       1.830425     1.865744     1.789584     1.825297   54393.040171\n",
      "min       1.441000     1.567000     1.432000     1.482000       0.000000\n",
      "25%       2.691250     2.736500     2.644000     2.693000   91744.250000\n",
      "50%       3.253000     3.312000     3.183500     3.240500  126669.500000\n",
      "75%       4.157750     4.244750     4.066750     4.152000  161490.500000\n",
      "max      13.580000    13.694000    13.306000    13.577000  459196.000000\n",
      "\n"
     ]
    },
    {
     "data": {
      "image/png": "[encoded data removed]",
      "text/plain": [
       "<Figure size 720x504 with 1 Axes>"
      ]
     },
     "metadata": {
      "needs_background": "light"
     },
     "output_type": "display_data"
    },
    {
     "data": {
      "image/png": "[encoded data removed]",
      "text/plain": [
       "<Figure size 360x360 with 1 Axes>"
      ]
     },
     "metadata": {
      "needs_background": "light"
     },
     "output_type": "display_data"
    },
    {
     "data": {
      "image/png": "[encoded data removed]",
      "text/plain": [
       "<Figure size 360x360 with 1 Axes>"
      ]
     },
     "metadata": {
      "needs_background": "light"
     },
     "output_type": "display_data"
    }
   ],
   "source": [
    "# stocks = input (\"Enter de code of the stock: - \")\n",
    "stocks = \"NG=F\"\n",
    "data = yf.download(stocks, \"2008-01-01\", \"2021-01-18\", auto_adjust=True)\n",
    "print(\"Dataframe info:\\n\")\n",
    "print(data.info())\n",
    "print(\"\\nDataframe description\")\n",
    "print(data.describe(), end=\"\\n\\n\")\n",
    "\n",
    "# plot close data\n",
    "data.Close.plot(figsize=(10, 7), color=\"r\")\n",
    "plt.ylabel(f\"{stocks} Prices\")\n",
    "plt.title(f\"{stocks} Price Series\")\n",
    "plt.show()\n",
    "\n",
    "# plot data destribution\n",
    "sns.displot(data[\"Close\"])\n",
    "sns.displot(data[\"Open\"])\n",
    "plt.show()"
   ]
  },
  {
   "cell_type": "code",
   "execution_count": null,
   "metadata": {},
   "outputs": [
    {
     "name": "stdout",
     "output_type": "stream",
     "text": [
      "(2625, 4)\n",
      "(657, 4)\n",
      "(2625,)\n",
      "(657,)\n"
     ]
    }
   ],
   "source": [
    "# Problem example, from all data, predict \"Close\" (whether stocks will go up or down)\n",
    "X = data.drop(\"Close\", axis=1)\n",
    "y = data[\"Close\"]\n",
    "\n",
    "X_train, X_test, y_train, y_test = train_test_split(X, y, test_size=0.2, random_state=0)\n",
    "print(X_train.shape, X_test.shape, y_train.shape, y_test.shape, sep=\"\\n\")"
   ]
  },
  {
   "cell_type": "code",
   "execution_count": null,
   "metadata": {},
   "outputs": [],
   "source": [
    "def calculate_metrics(y_pred):\n",
    "    mse = mean_squared_error(y_test, y_pred)\n",
    "    rmse = np.sqrt(mse)\n",
    "    r2_scores = r2_score(y_test, y_pred)\n",
    "\n",
    "    print(f\"\\nMSE: {mse}\")\n",
    "    print(f\"RMSE: {rmse}\")\n",
    "    print(f\"R2_score: {r2_scores}\")"
   ]
  },
  {
   "cell_type": "code",
   "execution_count": null,
   "metadata": {},
   "outputs": [
    {
     "name": "stdout",
     "output_type": "stream",
     "text": [
      "\n",
      "MSE: 0.0015345662928837405\n",
      "RMSE: 0.03917354072436829\n",
      "R2_score: 0.9994383299702719\n",
      "\n",
      "MSE: 0.23692336260533006\n",
      "RMSE: 0.486747740215946\n",
      "R2_score: 0.9132831519010182\n",
      "\n",
      "MSE: 0.0016151026199612945\n",
      "RMSE: 0.040188339353117025\n",
      "R2_score: 0.999408852689666\n"
     ]
    }
   ],
   "source": [
    "# Linear Regression\n",
    "from sklearn.linear_model import LinearRegression\n",
    "lr = LinearRegression()\n",
    "lr.fit(X_train, y_train)\n",
    "predictions = lr.predict(X_test)\n",
    "calculate_metrics(predictions)\n",
    "\n",
    "# With Regularizers\n",
    "from sklearn.linear_model import Lasso, Ridge\n",
    "la = Lasso().fit(X_train, y_train)\n",
    "ri = Ridge().fit(X_train, y_train)\n",
    "\n",
    "la_p = la.predict(X_test)\n",
    "ri_p = ri.predict(X_test)\n",
    "\n",
    "calculate_metrics(la_p)\n",
    "calculate_metrics(ri_p)"
   ]
  },
  {
   "cell_type": "code",
   "execution_count": null,
   "metadata": {},
   "outputs": [
    {
     "name": "stdout",
     "output_type": "stream",
     "text": [
      "Fitting 5 folds for each of 25 candidates, totalling 125 fits\n",
      "[CV 1/5] END .......C=0.1, gamma=1, kernel=rbf;, score=-0.075 total time=   0.1s\n",
      "[CV 2/5] END .......C=0.1, gamma=1, kernel=rbf;, score=-0.070 total time=   0.1s\n",
      "[CV 3/5] END .......C=0.1, gamma=1, kernel=rbf;, score=-0.072 total time=   0.1s\n",
      "[CV 4/5] END .......C=0.1, gamma=1, kernel=rbf;, score=-0.073 total time=   0.1s\n",
      "[CV 5/5] END .......C=0.1, gamma=1, kernel=rbf;, score=-0.050 total time=   0.1s\n",
      "[CV 1/5] END .....C=0.1, gamma=0.1, kernel=rbf;, score=-0.074 total time=   0.1s\n",
      "[CV 2/5] END .....C=0.1, gamma=0.1, kernel=rbf;, score=-0.070 total time=   0.1s\n",
      "[CV 3/5] END .....C=0.1, gamma=0.1, kernel=rbf;, score=-0.072 total time=   0.1s\n",
      "[CV 4/5] END .....C=0.1, gamma=0.1, kernel=rbf;, score=-0.072 total time=   0.1s\n",
      "[CV 5/5] END .....C=0.1, gamma=0.1, kernel=rbf;, score=-0.050 total time=   0.1s\n",
      "[CV 1/5] END ....C=0.1, gamma=0.01, kernel=rbf;, score=-0.073 total time=   0.1s\n",
      "[CV 2/5] END ....C=0.1, gamma=0.01, kernel=rbf;, score=-0.070 total time=   0.1s\n",
      "[CV 3/5] END ....C=0.1, gamma=0.01, kernel=rbf;, score=-0.072 total time=   0.1s\n",
      "[CV 4/5] END ....C=0.1, gamma=0.01, kernel=rbf;, score=-0.069 total time=   0.1s\n",
      "[CV 5/5] END ....C=0.1, gamma=0.01, kernel=rbf;, score=-0.049 total time=   0.1s\n",
      "[CV 1/5] END ...C=0.1, gamma=0.001, kernel=rbf;, score=-0.065 total time=   0.1s\n",
      "[CV 2/5] END ...C=0.1, gamma=0.001, kernel=rbf;, score=-0.064 total time=   0.1s\n",
      "[CV 3/5] END ...C=0.1, gamma=0.001, kernel=rbf;, score=-0.064 total time=   0.1s\n",
      "[CV 4/5] END ...C=0.1, gamma=0.001, kernel=rbf;, score=-0.060 total time=   0.1s\n",
      "[CV 5/5] END ...C=0.1, gamma=0.001, kernel=rbf;, score=-0.047 total time=   0.1s\n",
      "[CV 1/5] END ..C=0.1, gamma=0.0001, kernel=rbf;, score=-0.052 total time=   0.1s\n",
      "[CV 2/5] END ..C=0.1, gamma=0.0001, kernel=rbf;, score=-0.049 total time=   0.1s\n",
      "[CV 3/5] END ..C=0.1, gamma=0.0001, kernel=rbf;, score=-0.042 total time=   0.1s\n",
      "[CV 4/5] END ..C=0.1, gamma=0.0001, kernel=rbf;, score=-0.042 total time=   0.1s\n",
      "[CV 5/5] END ..C=0.1, gamma=0.0001, kernel=rbf;, score=-0.034 total time=   0.1s\n",
      "[CV 1/5] END .........C=1, gamma=1, kernel=rbf;, score=-0.038 total time=   0.1s\n",
      "[CV 2/5] END .........C=1, gamma=1, kernel=rbf;, score=-0.037 total time=   0.1s\n",
      "[CV 3/5] END .........C=1, gamma=1, kernel=rbf;, score=-0.040 total time=   0.1s\n",
      "[CV 4/5] END .........C=1, gamma=1, kernel=rbf;, score=-0.041 total time=   0.1s\n",
      "[CV 5/5] END .........C=1, gamma=1, kernel=rbf;, score=-0.020 total time=   0.1s\n",
      "[CV 1/5] END .......C=1, gamma=0.1, kernel=rbf;, score=-0.037 total time=   0.1s\n",
      "[CV 2/5] END .......C=1, gamma=0.1, kernel=rbf;, score=-0.036 total time=   0.1s\n",
      "[CV 3/5] END .......C=1, gamma=0.1, kernel=rbf;, score=-0.039 total time=   0.1s\n",
      "[CV 4/5] END .......C=1, gamma=0.1, kernel=rbf;, score=-0.039 total time=   0.1s\n",
      "[CV 5/5] END .......C=1, gamma=0.1, kernel=rbf;, score=-0.022 total time=   0.1s\n",
      "[CV 1/5] END ......C=1, gamma=0.01, kernel=rbf;, score=-0.039 total time=   0.1s\n",
      "[CV 2/5] END ......C=1, gamma=0.01, kernel=rbf;, score=-0.046 total time=   0.1s\n",
      "[CV 3/5] END ......C=1, gamma=0.01, kernel=rbf;, score=-0.042 total time=   0.1s\n",
      "[CV 4/5] END ......C=1, gamma=0.01, kernel=rbf;, score=-0.020 total time=   0.1s\n",
      "[CV 5/5] END ......C=1, gamma=0.01, kernel=rbf;, score=-0.023 total time=   0.1s\n",
      "[CV 1/5] END .....C=1, gamma=0.001, kernel=rbf;, score=-0.030 total time=   0.1s\n",
      "[CV 2/5] END .....C=1, gamma=0.001, kernel=rbf;, score=-0.054 total time=   0.1s\n",
      "[CV 3/5] END .....C=1, gamma=0.001, kernel=rbf;, score=-0.045 total time=   0.1s\n",
      "[CV 4/5] END .....C=1, gamma=0.001, kernel=rbf;, score=-0.006 total time=   0.1s\n",
      "[CV 5/5] END .....C=1, gamma=0.001, kernel=rbf;, score=-0.030 total time=   0.1s\n",
      "[CV 1/5] END ....C=1, gamma=0.0001, kernel=rbf;, score=-0.027 total time=   0.1s\n",
      "[CV 2/5] END ....C=1, gamma=0.0001, kernel=rbf;, score=-0.043 total time=   0.1s\n",
      "[CV 3/5] END .....C=1, gamma=0.0001, kernel=rbf;, score=0.001 total time=   0.1s\n",
      "[CV 4/5] END .....C=1, gamma=0.0001, kernel=rbf;, score=0.010 total time=   0.1s\n",
      "[CV 5/5] END ....C=1, gamma=0.0001, kernel=rbf;, score=-0.039 total time=   0.1s\n",
      "[CV 1/5] END .........C=10, gamma=1, kernel=rbf;, score=0.002 total time=   0.1s\n",
      "[CV 2/5] END .........C=10, gamma=1, kernel=rbf;, score=0.002 total time=   0.1s\n",
      "[CV 3/5] END .........C=10, gamma=1, kernel=rbf;, score=0.001 total time=   0.1s\n",
      "[CV 4/5] END .........C=10, gamma=1, kernel=rbf;, score=0.001 total time=   0.1s\n",
      "[CV 5/5] END ........C=10, gamma=1, kernel=rbf;, score=-0.006 total time=   0.1s\n",
      "[CV 1/5] END .......C=10, gamma=0.1, kernel=rbf;, score=0.002 total time=   0.1s\n",
      "[CV 2/5] END .......C=10, gamma=0.1, kernel=rbf;, score=0.005 total time=   0.1s\n",
      "[CV 3/5] END .......C=10, gamma=0.1, kernel=rbf;, score=0.004 total time=   0.1s\n",
      "[CV 4/5] END .......C=10, gamma=0.1, kernel=rbf;, score=0.003 total time=   0.1s\n",
      "[CV 5/5] END ......C=10, gamma=0.1, kernel=rbf;, score=-0.004 total time=   0.1s\n",
      "[CV 1/5] END ......C=10, gamma=0.01, kernel=rbf;, score=0.012 total time=   0.1s\n",
      "[CV 2/5] END .....C=10, gamma=0.01, kernel=rbf;, score=-0.002 total time=   0.1s\n",
      "[CV 3/5] END .....C=10, gamma=0.01, kernel=rbf;, score=-0.008 total time=   0.1s\n",
      "[CV 4/5] END ......C=10, gamma=0.01, kernel=rbf;, score=0.070 total time=   0.1s\n",
      "[CV 5/5] END ......C=10, gamma=0.01, kernel=rbf;, score=0.030 total time=   0.1s\n",
      "[CV 1/5] END ....C=10, gamma=0.001, kernel=rbf;, score=-0.083 total time=   0.1s\n",
      "[CV 2/5] END ....C=10, gamma=0.001, kernel=rbf;, score=-0.115 total time=   0.1s\n",
      "[CV 3/5] END ....C=10, gamma=0.001, kernel=rbf;, score=-0.272 total time=   0.1s\n",
      "[CV 4/5] END ....C=10, gamma=0.001, kernel=rbf;, score=-0.008 total time=   0.1s\n",
      "[CV 5/5] END ....C=10, gamma=0.001, kernel=rbf;, score=-0.076 total time=   0.1s\n",
      "[CV 1/5] END ...C=10, gamma=0.0001, kernel=rbf;, score=-0.202 total time=   0.2s\n",
      "[CV 2/5] END ...C=10, gamma=0.0001, kernel=rbf;, score=-0.175 total time=   0.2s\n",
      "[CV 3/5] END ...C=10, gamma=0.0001, kernel=rbf;, score=-0.402 total time=   0.2s\n",
      "[CV 4/5] END ...C=10, gamma=0.0001, kernel=rbf;, score=-0.237 total time=   0.2s\n",
      "[CV 5/5] END ...C=10, gamma=0.0001, kernel=rbf;, score=-0.153 total time=   0.2s\n",
      "[CV 1/5] END ........C=100, gamma=1, kernel=rbf;, score=0.002 total time=   0.1s\n",
      "[CV 2/5] END ........C=100, gamma=1, kernel=rbf;, score=0.002 total time=   0.1s\n",
      "[CV 3/5] END ........C=100, gamma=1, kernel=rbf;, score=0.001 total time=   0.1s\n",
      "[CV 4/5] END ........C=100, gamma=1, kernel=rbf;, score=0.001 total time=   0.1s\n",
      "[CV 5/5] END .......C=100, gamma=1, kernel=rbf;, score=-0.006 total time=   0.1s\n",
      "[CV 1/5] END ......C=100, gamma=0.1, kernel=rbf;, score=0.002 total time=   0.1s\n",
      "[CV 2/5] END ......C=100, gamma=0.1, kernel=rbf;, score=0.005 total time=   0.1s\n",
      "[CV 3/5] END ......C=100, gamma=0.1, kernel=rbf;, score=0.004 total time=   0.1s\n",
      "[CV 4/5] END ......C=100, gamma=0.1, kernel=rbf;, score=0.003 total time=   0.1s\n",
      "[CV 5/5] END .....C=100, gamma=0.1, kernel=rbf;, score=-0.004 total time=   0.1s\n",
      "[CV 1/5] END .....C=100, gamma=0.01, kernel=rbf;, score=0.012 total time=   0.1s\n",
      "[CV 2/5] END ....C=100, gamma=0.01, kernel=rbf;, score=-0.002 total time=   0.1s\n",
      "[CV 3/5] END ....C=100, gamma=0.01, kernel=rbf;, score=-0.008 total time=   0.1s\n",
      "[CV 4/5] END .....C=100, gamma=0.01, kernel=rbf;, score=0.070 total time=   0.1s\n",
      "[CV 5/5] END .....C=100, gamma=0.01, kernel=rbf;, score=0.030 total time=   0.1s\n",
      "[CV 1/5] END ...C=100, gamma=0.001, kernel=rbf;, score=-0.098 total time=   0.2s\n",
      "[CV 2/5] END ...C=100, gamma=0.001, kernel=rbf;, score=-0.145 total time=   0.2s\n",
      "[CV 3/5] END ...C=100, gamma=0.001, kernel=rbf;, score=-0.305 total time=   0.2s\n",
      "[CV 4/5] END ...C=100, gamma=0.001, kernel=rbf;, score=-0.031 total time=   0.2s\n",
      "[CV 5/5] END ...C=100, gamma=0.001, kernel=rbf;, score=-0.129 total time=   0.2s\n",
      "[CV 1/5] END ..C=100, gamma=0.0001, kernel=rbf;, score=-0.547 total time=   0.4s\n",
      "[CV 2/5] END ..C=100, gamma=0.0001, kernel=rbf;, score=-0.947 total time=   0.4s\n",
      "[CV 3/5] END ..C=100, gamma=0.0001, kernel=rbf;, score=-0.855 total time=   0.4s\n",
      "[CV 4/5] END ..C=100, gamma=0.0001, kernel=rbf;, score=-0.626 total time=   0.4s\n",
      "[CV 5/5] END ..C=100, gamma=0.0001, kernel=rbf;, score=-1.239 total time=   0.4s\n",
      "[CV 1/5] END .......C=1000, gamma=1, kernel=rbf;, score=0.002 total time=   0.1s\n",
      "[CV 2/5] END .......C=1000, gamma=1, kernel=rbf;, score=0.002 total time=   0.1s\n",
      "[CV 3/5] END .......C=1000, gamma=1, kernel=rbf;, score=0.001 total time=   0.1s\n",
      "[CV 4/5] END .......C=1000, gamma=1, kernel=rbf;, score=0.001 total time=   0.1s\n",
      "[CV 5/5] END ......C=1000, gamma=1, kernel=rbf;, score=-0.006 total time=   0.1s\n",
      "[CV 1/5] END .....C=1000, gamma=0.1, kernel=rbf;, score=0.002 total time=   0.1s\n",
      "[CV 2/5] END .....C=1000, gamma=0.1, kernel=rbf;, score=0.005 total time=   0.1s\n",
      "[CV 3/5] END .....C=1000, gamma=0.1, kernel=rbf;, score=0.004 total time=   0.1s\n",
      "[CV 4/5] END .....C=1000, gamma=0.1, kernel=rbf;, score=0.003 total time=   0.1s\n",
      "[CV 5/5] END ....C=1000, gamma=0.1, kernel=rbf;, score=-0.004 total time=   0.1s\n",
      "[CV 1/5] END ....C=1000, gamma=0.01, kernel=rbf;, score=0.012 total time=   0.1s\n",
      "[CV 2/5] END ...C=1000, gamma=0.01, kernel=rbf;, score=-0.002 total time=   0.1s\n",
      "[CV 3/5] END ...C=1000, gamma=0.01, kernel=rbf;, score=-0.008 total time=   0.1s\n",
      "[CV 4/5] END ....C=1000, gamma=0.01, kernel=rbf;, score=0.070 total time=   0.1s\n",
      "[CV 5/5] END ....C=1000, gamma=0.01, kernel=rbf;, score=0.030 total time=   0.1s\n",
      "[CV 1/5] END ..C=1000, gamma=0.001, kernel=rbf;, score=-0.098 total time=   0.2s\n",
      "[CV 2/5] END ..C=1000, gamma=0.001, kernel=rbf;, score=-0.146 total time=   0.2s\n",
      "[CV 3/5] END ..C=1000, gamma=0.001, kernel=rbf;, score=-0.305 total time=   0.2s\n",
      "[CV 4/5] END ..C=1000, gamma=0.001, kernel=rbf;, score=-0.030 total time=   0.2s\n",
      "[CV 5/5] END ..C=1000, gamma=0.001, kernel=rbf;, score=-0.128 total time=   0.2s\n",
      "[CV 1/5] END .C=1000, gamma=0.0001, kernel=rbf;, score=-0.829 total time=   1.7s\n",
      "[CV 2/5] END .C=1000, gamma=0.0001, kernel=rbf;, score=-1.385 total time=   1.9s\n",
      "[CV 3/5] END .C=1000, gamma=0.0001, kernel=rbf;, score=-0.998 total time=   1.8s\n",
      "[CV 4/5] END .C=1000, gamma=0.0001, kernel=rbf;, score=-0.918 total time=   1.8s\n",
      "[CV 5/5] END .C=1000, gamma=0.0001, kernel=rbf;, score=-1.301 total time=   1.8s\n"
     ]
    },
    {
     "data": {
      "text/plain": [
       "GridSearchCV(estimator=SVR(),\n",
       "             param_grid={'C': [0.1, 1, 10, 100, 1000],\n",
       "                         'gamma': [1, 0.1, 0.01, 0.001, 0.0001],\n",
       "                         'kernel': ['rbf']},\n",
       "             verbose=3)"
      ]
     },
     "execution_count": 6,
     "metadata": {},
     "output_type": "execute_result"
    }
   ],
   "source": [
    "# With SVM\n",
    "from sklearn.svm import SVR\n",
    "from sklearn.model_selection import GridSearchCV\n",
    "\n",
    "svr = SVR()\n",
    "\n",
    "param_grid = {\n",
    "    \"C\" : [0.1, 1, 10, 100, 1000],\n",
    "    \"gamma\" : [1, 0.1, 0.01, 0.001, 0.0001],\n",
    "    \"kernel\": [\"rbf\"]\n",
    "    }\n",
    "\n",
    "grid = GridSearchCV(SVR(), param_grid, refit=True, verbose=3)\n",
    "grid.fit(X_train,y_train)"
   ]
  },
  {
   "cell_type": "code",
   "execution_count": null,
   "metadata": {},
   "outputs": [
    {
     "name": "stdout",
     "output_type": "stream",
     "text": [
      "Ridge()\n"
     ]
    }
   ],
   "source": [
    "import joblib\n",
    "\n",
    "joblib.dump(ri, \"model.pkl\")\n",
    "model = joblib.load(\"model.pkl\")\n",
    "\n",
    "print(model)"
   ]
  },
  {
   "cell_type": "code",
   "execution_count": null,
   "metadata": {},
   "outputs": [
    {
     "ename": "",
     "evalue": "",
     "output_type": "error",
     "traceback": [
      "\u001b[1;31mFailed to start the Kernel. \n",
      "Kernel .venv (Python 3.9.10) is not usable. Check the Jupyter output tab for more information. \n",
      "View Jupyter <a href='command:jupyter.viewOutput'>log</a> for further details."
     ]
    }
   ],
   "source": [
    "print(\"oi\")"
   ]
  }
 ],
 "metadata": {
  "interpreter": {
   "hash": "a7ecf1d5143174c0e97752ad6eb43349f3301607dc37dd8103a9316d6d645362"
  },
  "kernelspec": {
   "display_name": "Python 3.9.10 64-bit ('.venv': venv)",
   "language": "python",
   "name": "python3"
  },
  "language_info": {
   "codemirror_mode": {
    "name": "ipython",
    "version": 3
   },
   "file_extension": ".py",
   "mimetype": "text/x-python",
   "name": "python",
   "nbconvert_exporter": "python",
   "pygments_lexer": "ipython3",
   "version": "3.9.10"
  },
  "orig_nbformat": 4
 },
 "nbformat": 4,
 "nbformat_minor": 2
}
